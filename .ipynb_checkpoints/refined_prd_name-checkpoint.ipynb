{
 "cells": [
  {
   "cell_type": "code",
   "execution_count": 1,
   "metadata": {},
   "outputs": [],
   "source": [
    "import re"
   ]
  },
  {
   "cell_type": "code",
   "execution_count": 133,
   "metadata": {},
   "outputs": [],
   "source": [
    "apmall = open(\"apmall_prd_info.txt\", 'r')\n",
    "apmall = apmall.readlines()\n",
    "\n",
    "\n",
    "gsshop = open(\"gsshop_prd_info.txt\", 'r')\n",
    "gsshop = gsshop.readlines()\n",
    "\n",
    "\n",
    "glowpick = open(\"glowpick_prd_info.txt\", 'r')\n",
    "glowpick = glowpick.readlines()"
   ]
  },
  {
   "cell_type": "code",
   "execution_count": 142,
   "metadata": {},
   "outputs": [],
   "source": [
    "ap_num_name = []\n",
    "for ap in apmall:\n",
    "    ap_num_name.append(ap.split(\" | \")[0] + \" | \" + ap.split(\" | \")[1]+ \" | \" + ap.split(\" | \")[3])\n",
    "    \n",
    "    \n",
    "gs_num_name = []\n",
    "for gs in gsshop:\n",
    "    gs_num_name.append(gs.split(\" | \")[0] + \" | \" + gs.split(\" | \")[2] + \" | \" + gs.split(\" | \")[7])    \n",
    "    \n",
    "    \n",
    "gl_num_name = []\n",
    "for gl in glowpick:\n",
    "    gl_num_name.append(gl.split(\" | \")[0] + \" | \" + gl.split(\" | \")[2] + \" | \" + gl.split(\" | \")[4])    "
   ]
  },
  {
   "cell_type": "code",
   "execution_count": 137,
   "metadata": {},
   "outputs": [],
   "source": [
    "ap_refined = []\n",
    "for name in ap_num_name:\n",
    "    refined = re.sub('0-9[개|종|택]', ' ', name.split(\" | \")[1])\n",
    "    refined = re.sub('[0-9A-Za-z-=,_#/\\?:^$.@*\\\"※~&%ㆍ!′´‘』\\\\|\\<`\\'…》]', ' ', refined)\n",
    "    refined = re.sub('[×\\+\\[\\]\\>\\(\\)]', ' ', refined)\n",
    "    refined = re.sub('\\s+[종|택|개|매|호|겹|월]|이니스프리|한정|증정|단종', '', refined)\n",
    "    refined = re.sub('\\s+[\\s+]', ' ', refined)\n",
    "    ap_refined.append(refined.strip() + \" | \" + name.split(\" | \")[0] + \" | \" + name.split(\" | \")[2])"
   ]
  },
  {
   "cell_type": "code",
   "execution_count": 139,
   "metadata": {},
   "outputs": [],
   "source": [
    "gs_refined = []\n",
    "for name in gs_num_name:\n",
    "    refined = re.sub('0-9[개|종|택]', ' ', name.split(\" | \")[1])\n",
    "    refined = re.sub('[0-9A-Za-z-=,_#/\\?:^$.@*\\\"※~&%ㆍ!′´‘』\\\\|\\<`\\'…》]', ' ', refined)\n",
    "    refined = re.sub('[×\\+\\[\\]\\>\\(\\)]', ' ', refined)\n",
    "    refined = re.sub('\\s+[종|택|개|매|호|겹|월]|이니스프리|한정|증정|단종', '', refined)\n",
    "    refined = re.sub('\\s+[\\s+]', ' ', refined)\n",
    "    gs_refined.append(refined.strip() + \" | \" + name.split(\" | \")[0] + \" | \" + name.split(\" | \")[2])"
   ]
  },
  {
   "cell_type": "code",
   "execution_count": 143,
   "metadata": {},
   "outputs": [],
   "source": [
    "gl_refined = []\n",
    "for name in gl_num_name:\n",
    "    refined = re.sub('0-9[개|종|택]', ' ', name.split(\" | \")[1])\n",
    "    refined = re.sub('[0-9A-Za-z-=,_#/\\?:^$.@*\\\"※~&%ㆍ!′´‘』\\\\|\\<`\\'…》]', ' ', refined)\n",
    "    refined = re.sub('[×\\+\\[\\]\\>\\(\\)]', ' ', refined)\n",
    "    refined = re.sub('\\s+[종|택|개|매|호|겹|월]|이니스프리|한정|증정|단종', '', refined)\n",
    "    refined = re.sub('\\s+[\\s+]', ' ', refined)\n",
    "    gl_refined.append(refined.strip() + \" | \" + name.split(\" | \")[0] + \" | \" + name.split(\" | \")[2])"
   ]
  },
  {
   "cell_type": "code",
   "execution_count": 145,
   "metadata": {},
   "outputs": [],
   "source": [
    "ap_sorted = open(\"sorted_ap.txt\", 'w')\n",
    "gs_sorted = open(\"sorted_gs.txt\", 'w')\n",
    "gl_sorted = open(\"sorted_gl.txt\", 'w')"
   ]
  },
  {
   "cell_type": "code",
   "execution_count": 146,
   "metadata": {},
   "outputs": [],
   "source": [
    "for ap in sorted(ap_refined):\n",
    "    ap_sorted.write(ap+'\\n')"
   ]
  },
  {
   "cell_type": "code",
   "execution_count": 147,
   "metadata": {},
   "outputs": [],
   "source": [
    "for gs in sorted(gs_refined):\n",
    "    gs_sorted.write(gs+'\\n')"
   ]
  },
  {
   "cell_type": "code",
   "execution_count": 148,
   "metadata": {},
   "outputs": [],
   "source": [
    "for gl in sorted(gl_refined):\n",
    "    gl_sorted.write(gl+'\\n')"
   ]
  },
  {
   "cell_type": "code",
   "execution_count": 149,
   "metadata": {},
   "outputs": [],
   "source": [
    "ap_sorted.close()\n",
    "gs_sorted.close()\n",
    "gl_sorted.close()"
   ]
  },
  {
   "cell_type": "code",
   "execution_count": null,
   "metadata": {},
   "outputs": [],
   "source": []
  },
  {
   "cell_type": "code",
   "execution_count": 9,
   "metadata": {},
   "outputs": [
    {
     "ename": "UnicodeDecodeError",
     "evalue": "'utf-8' codec can't decode byte 0xb7 in position 84: invalid start byte",
     "output_type": "error",
     "traceback": [
      "\u001b[0;31m---------------------------------------------------------------------------\u001b[0m",
      "\u001b[0;31mUnicodeDecodeError\u001b[0m                        Traceback (most recent call last)",
      "\u001b[0;32m<ipython-input-9-743f1e56b35d>\u001b[0m in \u001b[0;36m<module>\u001b[0;34m\u001b[0m\n\u001b[1;32m      4\u001b[0m \u001b[0mrdr\u001b[0m \u001b[0;34m=\u001b[0m \u001b[0mcsv\u001b[0m\u001b[0;34m.\u001b[0m\u001b[0mreader\u001b[0m\u001b[0;34m(\u001b[0m\u001b[0mf\u001b[0m\u001b[0;34m)\u001b[0m\u001b[0;34m\u001b[0m\u001b[0;34m\u001b[0m\u001b[0m\n\u001b[1;32m      5\u001b[0m \u001b[0;34m\u001b[0m\u001b[0m\n\u001b[0;32m----> 6\u001b[0;31m \u001b[0;32mfor\u001b[0m \u001b[0mline\u001b[0m \u001b[0;32min\u001b[0m \u001b[0mrdr\u001b[0m\u001b[0;34m:\u001b[0m\u001b[0;34m\u001b[0m\u001b[0;34m\u001b[0m\u001b[0m\n\u001b[0m\u001b[1;32m      7\u001b[0m     \u001b[0mprint\u001b[0m\u001b[0;34m(\u001b[0m\u001b[0mline\u001b[0m\u001b[0;34m)\u001b[0m\u001b[0;34m\u001b[0m\u001b[0;34m\u001b[0m\u001b[0m\n\u001b[1;32m      8\u001b[0m \u001b[0;34m\u001b[0m\u001b[0m\n",
      "\u001b[0;32m~/miniconda3/lib/python3.7/codecs.py\u001b[0m in \u001b[0;36mdecode\u001b[0;34m(self, input, final)\u001b[0m\n\u001b[1;32m    320\u001b[0m         \u001b[0;31m# decode input (taking the buffer into account)\u001b[0m\u001b[0;34m\u001b[0m\u001b[0;34m\u001b[0m\u001b[0;34m\u001b[0m\u001b[0m\n\u001b[1;32m    321\u001b[0m         \u001b[0mdata\u001b[0m \u001b[0;34m=\u001b[0m \u001b[0mself\u001b[0m\u001b[0;34m.\u001b[0m\u001b[0mbuffer\u001b[0m \u001b[0;34m+\u001b[0m \u001b[0minput\u001b[0m\u001b[0;34m\u001b[0m\u001b[0;34m\u001b[0m\u001b[0m\n\u001b[0;32m--> 322\u001b[0;31m         \u001b[0;34m(\u001b[0m\u001b[0mresult\u001b[0m\u001b[0;34m,\u001b[0m \u001b[0mconsumed\u001b[0m\u001b[0;34m)\u001b[0m \u001b[0;34m=\u001b[0m \u001b[0mself\u001b[0m\u001b[0;34m.\u001b[0m\u001b[0m_buffer_decode\u001b[0m\u001b[0;34m(\u001b[0m\u001b[0mdata\u001b[0m\u001b[0;34m,\u001b[0m \u001b[0mself\u001b[0m\u001b[0;34m.\u001b[0m\u001b[0merrors\u001b[0m\u001b[0;34m,\u001b[0m \u001b[0mfinal\u001b[0m\u001b[0;34m)\u001b[0m\u001b[0;34m\u001b[0m\u001b[0;34m\u001b[0m\u001b[0m\n\u001b[0m\u001b[1;32m    323\u001b[0m         \u001b[0;31m# keep undecoded input until the next call\u001b[0m\u001b[0;34m\u001b[0m\u001b[0;34m\u001b[0m\u001b[0;34m\u001b[0m\u001b[0m\n\u001b[1;32m    324\u001b[0m         \u001b[0mself\u001b[0m\u001b[0;34m.\u001b[0m\u001b[0mbuffer\u001b[0m \u001b[0;34m=\u001b[0m \u001b[0mdata\u001b[0m\u001b[0;34m[\u001b[0m\u001b[0mconsumed\u001b[0m\u001b[0;34m:\u001b[0m\u001b[0;34m]\u001b[0m\u001b[0;34m\u001b[0m\u001b[0;34m\u001b[0m\u001b[0m\n",
      "\u001b[0;31mUnicodeDecodeError\u001b[0m: 'utf-8' codec can't decode byte 0xb7 in position 84: invalid start byte"
     ]
    }
   ],
   "source": [
    "import csv\n",
    " \n",
    "f = open('inni_prd_info.csv','r', encoding='utf8')\n",
    "rdr = csv.reader(f)\n",
    " \n",
    "for line in rdr:\n",
    "    print(line)\n",
    " \n",
    " \n",
    "f.close()"
   ]
  }
 ],
 "metadata": {
  "kernelspec": {
   "display_name": "Python 3",
   "language": "python",
   "name": "python3"
  },
  "language_info": {
   "codemirror_mode": {
    "name": "ipython",
    "version": 3
   },
   "file_extension": ".py",
   "mimetype": "text/x-python",
   "name": "python",
   "nbconvert_exporter": "python",
   "pygments_lexer": "ipython3",
   "version": "3.7.4"
  }
 },
 "nbformat": 4,
 "nbformat_minor": 4
}
