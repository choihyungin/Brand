{
 "cells": [
  {
   "cell_type": "code",
   "execution_count": 1,
   "metadata": {},
   "outputs": [],
   "source": [
    "from collections import Counter\n",
    "import re"
   ]
  },
  {
   "cell_type": "code",
   "execution_count": 2,
   "metadata": {},
   "outputs": [],
   "source": [
    "prd_info = open(\"apmall_prd_info.txt\", 'r')\n",
    "prd_reviews = open(\"apmall_prd_reviews.txt\", 'r')\n",
    "inform = prd_info.readlines()\n",
    "reviews = prd_reviews.readlines()"
   ]
  },
  {
   "cell_type": "code",
   "execution_count": 3,
   "metadata": {},
   "outputs": [],
   "source": [
    "prd_num_list = []\n",
    "\n",
    "for review in reviews:\n",
    "    if len(review) == 1:\n",
    "        pass\n",
    "    else:\n",
    "        prd_num = review.split(\" | \")[0]\n",
    "        prd_num_list.append(prd_num)"
   ]
  },
  {
   "cell_type": "code",
   "execution_count": 6,
   "metadata": {},
   "outputs": [],
   "source": [
    "num_count = Counter(prd_num_list).most_common(20)"
   ]
  },
  {
   "cell_type": "code",
   "execution_count": 7,
   "metadata": {},
   "outputs": [],
   "source": [
    "top20num = []\n",
    "\n",
    "for num in num_count:\n",
    "    top20num.append(num[0])"
   ]
  },
  {
   "cell_type": "code",
   "execution_count": 8,
   "metadata": {},
   "outputs": [
    {
     "name": "stdout",
     "output_type": "stream",
     "text": [
      "['269', '96', '330', '283', '342', '30', '97', '193', '335', '209', '241', '153', '264', '48', '89', '223', '25', '248', '87', '279']\n"
     ]
    }
   ],
   "source": [
    "print(top20num)"
   ]
  },
  {
   "cell_type": "code",
   "execution_count": 9,
   "metadata": {},
   "outputs": [],
   "source": [
    "top20name = []\n",
    "for num in top20num:\n",
    "    for info in inform:\n",
    "        if num == info.split(\" | \")[0]:\n",
    "            top20name.append(info.split(\" | \")[1])"
   ]
  },
  {
   "cell_type": "code",
   "execution_count": 11,
   "metadata": {},
   "outputs": [
    {
     "name": "stdout",
     "output_type": "stream",
     "text": [
      "20\n"
     ]
    }
   ],
   "source": [
    "print(top20name)"
   ]
  },
  {
   "cell_type": "code",
   "execution_count": 12,
   "metadata": {},
   "outputs": [],
   "source": [
    "name_only = []\n",
    "for name in top20name:\n",
    "    refined = re.sub('[0-9A-Za-z-=,_+×#/\\?:^$.@*\\\"※~&%ㆍ!′´‘』\\\\|\\(\\)\\[\\]\\<\\>`\\'…》]', ' ', name)\n",
    "    refined = re.sub('\\s+[종|택|개|매|호|겹]', ' ', refined)\n",
    "    name_only.append(refined.strip())"
   ]
  },
  {
   "cell_type": "code",
   "execution_count": 13,
   "metadata": {},
   "outputs": [
    {
     "name": "stdout",
     "output_type": "stream",
     "text": [
      "['노세범 미네랄 파우더', '뷰티툴 닦아 쓰는 화장솜', '노세범 미네랄 팩트', '그린티밸런싱크림 세븐데이즈', '뷰티툴 일반 화장솜', '그린 네일', '투톤 아이브로우 키트', '올리브 리얼 클렌징 티슈', '제주 왕벚꽃 톤업 크림', '국화 여성 청결제', '국화 여성 청결 티슈', '그린티씨드크림', '알로에 리바이탈 수딩젤', '화산송이 모공 클렌징 폼', '글리터브러쉬', '비자 럭키박스 미키 파우치', '올리브 모이스처 핸드크림', '청보리 클렌징 티슈', '그린티씨드에센스인로션', '링클사이언스스팟트리트먼트']\n"
     ]
    }
   ],
   "source": [
    "print(name_only)"
   ]
  },
  {
   "cell_type": "code",
   "execution_count": 15,
   "metadata": {},
   "outputs": [],
   "source": [
    "top20prd = open(\"top20_prd_num_name_refined.txt\", 'w')"
   ]
  },
  {
   "cell_type": "code",
   "execution_count": 16,
   "metadata": {},
   "outputs": [],
   "source": [
    "for i in range(len(name_only)):\n",
    "    top20prd.write(top20num[i]+\" | \"+name_only[i] + \"\\n\")"
   ]
  },
  {
   "cell_type": "code",
   "execution_count": 17,
   "metadata": {},
   "outputs": [],
   "source": [
    "top20prd.close()"
   ]
  }
 ],
 "metadata": {
  "kernelspec": {
   "display_name": "Python 3",
   "language": "python",
   "name": "python3"
  },
  "language_info": {
   "codemirror_mode": {
    "name": "ipython",
    "version": 3
   },
   "file_extension": ".py",
   "mimetype": "text/x-python",
   "name": "python",
   "nbconvert_exporter": "python",
   "pygments_lexer": "ipython3",
   "version": "3.7.4"
  }
 },
 "nbformat": 4,
 "nbformat_minor": 4
}
