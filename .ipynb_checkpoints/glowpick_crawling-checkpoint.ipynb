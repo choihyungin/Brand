{
 "cells": [
  {
   "cell_type": "code",
   "execution_count": 1,
   "metadata": {},
   "outputs": [],
   "source": [
    "import datetime\n",
    "from bs4 import BeautifulSoup\n",
    "import urllib.parse\n",
    "from urllib.request import Request, urlopen\n",
    "from selenium import webdriver as wd\n",
    "from selenium.webdriver.common.by import By\n",
    "from selenium.webdriver.support.ui import WebDriverWait\n",
    "from selenium.webdriver.support import expected_conditions as EC\n",
    "from selenium.webdriver.common.keys import Keys\n",
    "from selenium.webdriver.common.action_chains import ActionChains\n",
    "import time\n",
    "from selenium.common import exceptions"
   ]
  },
  {
   "cell_type": "code",
   "execution_count": 11,
   "metadata": {},
   "outputs": [],
   "source": [
    "rev = open(\"glowpick_prd_info.txt\", 'w')\n",
    "driver = wd.Chrome(executable_path='/Users/hyunginchoi/desktop/com/python/chromedriver') #드라이버\n",
    "actions=ActionChains(driver)\n",
    "driver.get('https://www.glowpick.com/search/result?query=%EC%9D%B4%EB%8B%88%EC%8A%A4%ED%94%84%EB%A6%AC') #ㅜ소"
   ]
  },
  {
   "cell_type": "code",
   "execution_count": 12,
   "metadata": {},
   "outputs": [
    {
     "name": "stdout",
     "output_type": "stream",
     "text": [
      "1714\n"
     ]
    }
   ],
   "source": [
    "driver.find_element_by_css_selector('#gp-search > div > section.section-result.product > h3').click()  #다른 곳 아무데나 클릭\n",
    "\n",
    "while(1):\n",
    "    last_height=driver.execute_script(\"return document.querySelectorAll('#gp-search > div > section.section-result.product > div > ul > li').length\")\n",
    "    actions.send_keys(Keys.END).perform()\n",
    "    time.sleep(2.5)\n",
    "    new_height = driver.execute_script(\"return document.querySelectorAll('#gp-search > div > section.section-result.product > div > ul > li').length\")\n",
    "    if new_height == last_height:\n",
    "        break\n",
    "########################################################\n",
    "itemlist=driver.find_elements_by_class_name('prod-wrap')\n",
    "prd_id=0\n",
    "for p in itemlist:\n",
    "    prd_name_shop=p.find_element_by_class_name('name').text\n",
    "    prd_price=p.find_element_by_class_name('price--bold').text\n",
    "    rev_avg=p.find_element_by_class_name('score').text\n",
    "    rev_cnt=p.find_element_by_class_name('joiner').text\n",
    "    rev.write(str(prd_id)+\" | \"+\"5\"+\" | \"+prd_name_shop+\" | \"+prd_price+\" | \"+rev_cnt[1:-1]+\" | \"+rev_avg+\"\\n\")\n",
    "    prd_id+=1\n",
    "print(prd_id)"
   ]
  },
  {
   "cell_type": "code",
   "execution_count": 13,
   "metadata": {},
   "outputs": [],
   "source": [
    "rev.close()\n",
    "driver.close()"
   ]
  }
 ],
 "metadata": {
  "kernelspec": {
   "display_name": "Python 3",
   "language": "python",
   "name": "python3"
  },
  "language_info": {
   "codemirror_mode": {
    "name": "ipython",
    "version": 3
   },
   "file_extension": ".py",
   "mimetype": "text/x-python",
   "name": "python",
   "nbconvert_exporter": "python",
   "pygments_lexer": "ipython3",
   "version": "3.7.4"
  }
 },
 "nbformat": 4,
 "nbformat_minor": 4
}
