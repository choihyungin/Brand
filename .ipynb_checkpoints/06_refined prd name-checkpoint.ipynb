{
 "cells": [
  {
   "cell_type": "code",
   "execution_count": 1,
   "metadata": {},
   "outputs": [],
   "source": [
    "import re"
   ]
  },
  {
   "cell_type": "code",
   "execution_count": 2,
   "metadata": {},
   "outputs": [],
   "source": [
    "apmall = open(\"apmall_prd_info.txt\", 'r')\n",
    "apmall = apmall.readlines()\n",
    "\n",
    "gsshop = open(\"gsshop_prd_info.txt\", 'r')\n",
    "gsshop = gsshop.readlines()\n",
    "\n",
    "glowpick = open(\"glowpick_prd_info.txt\", 'r')\n",
    "glowpick = glowpick.readlines()\n",
    "\n",
    "innisfree = open(\"inni_prd_info.txt\", 'r')\n",
    "innisfree = innisfree.readlines()"
   ]
  },
  {
   "cell_type": "code",
   "execution_count": 3,
   "metadata": {},
   "outputs": [],
   "source": [
    "ap_num_name = []\n",
    "for ap in apmall:\n",
    "    ap_num_name.append(ap.split(\" | \")[0] + \" | \" + ap.split(\" | \")[1]+ \" | \" + ap.split(\" | \")[3])\n",
    "    \n",
    "    \n",
    "gs_num_name = []\n",
    "for gs in gsshop:\n",
    "    gs_num_name.append(gs.split(\" | \")[0] + \" | \" + gs.split(\" | \")[2] + \" | \" + gs.split(\" | \")[7])    \n",
    "    \n",
    "    \n",
    "gl_num_name = []\n",
    "for gl in glowpick:\n",
    "    gl_num_name.append(gl.split(\" | \")[0] + \" | \" + gl.split(\" | \")[2] + \" | \" + gl.split(\" | \")[4])   \n",
    "    \n",
    "    \n",
    "in_num_name = []\n",
    "for inni in innisfree:\n",
    "    in_num_name.append(inni.split(\"| \")[1] + \"| \" + inni.split(\"| \")[2] + \"| \" + inni.split(\"| \")[5])\n",
    "    "
   ]
  },
  {
   "cell_type": "code",
   "execution_count": 4,
   "metadata": {},
   "outputs": [],
   "source": [
    "ap_refined = []\n",
    "for name in ap_num_name:\n",
    "    refined = re.sub('0-9[개|종|택]', ' ', name.split(\" | \")[1])\n",
    "    refined = re.sub('[0-9A-Za-z-=,_#/\\?:^$.@*\\\"※~&%ㆍ!′´‘』\\\\|\\<`\\'…》]', ' ', refined)\n",
    "    refined = re.sub('[×\\+\\[\\]\\>\\(\\)]', ' ', refined)\n",
    "    refined = re.sub('\\s+[종|택|개|매|호|겹|월]|이니스프리|한정|증정|단종', '', refined)\n",
    "    refined = re.sub('\\s+[\\s+]', ' ', refined)\n",
    "    ap_refined.append(refined.strip() + \" | \" + name.split(\" | \")[0] + \" | \" + name.split(\" | \")[2])"
   ]
  },
  {
   "cell_type": "code",
   "execution_count": 5,
   "metadata": {},
   "outputs": [],
   "source": [
    "gs_refined = []\n",
    "for name in gs_num_name:\n",
    "    refined = re.sub('0-9[개|종|택]', ' ', name.split(\" | \")[1])\n",
    "    refined = re.sub('[0-9A-Za-z-=,_#/\\?:^$.@*\\\"※~&%ㆍ!′´‘』\\\\|\\<`\\'…》]', ' ', refined)\n",
    "    refined = re.sub('[×\\+\\[\\]\\>\\(\\)]', ' ', refined)\n",
    "    refined = re.sub('\\s+[종|택|개|매|호|겹|월]|이니스프리|한정|증정|단종', '', refined)\n",
    "    refined = re.sub('\\s+[\\s+]', ' ', refined)\n",
    "    gs_refined.append(refined.strip() + \" | \" + name.split(\" | \")[0] + \" | \" + name.split(\" | \")[2])"
   ]
  },
  {
   "cell_type": "code",
   "execution_count": 6,
   "metadata": {},
   "outputs": [],
   "source": [
    "gl_refined = []\n",
    "for name in gl_num_name:\n",
    "    refined = re.sub('0-9[개|종|택]', ' ', name.split(\" | \")[1])\n",
    "    refined = re.sub('[0-9A-Za-z-=,_#/\\?:^$.@*\\\"※~&%ㆍ!′´‘』\\\\|\\<`\\'…》]', ' ', refined)\n",
    "    refined = re.sub('[×\\+\\[\\]\\>\\(\\)]', ' ', refined)\n",
    "    refined = re.sub('\\s+[종|택|개|매|호|겹|월]|이니스프리|한정|증정|단종', '', refined)\n",
    "    refined = re.sub('\\s+[\\s+]', ' ', refined)\n",
    "    gl_refined.append(refined.strip() + \" | \" + name.split(\" | \")[0] + \" | \" + name.split(\" | \")[2])"
   ]
  },
  {
   "cell_type": "code",
   "execution_count": 7,
   "metadata": {},
   "outputs": [],
   "source": [
    "in_refined = []\n",
    "for name in in_num_name:\n",
    "    refined = re.sub('0-9[개|종|택]', ' ', name.split(\" | \")[1])\n",
    "    refined = re.sub('[0-9A-Za-z-=,_#/\\?:^$.@*\\\"※~&%ㆍ!′´‘』\\\\|\\<`\\'…》]', ' ', refined)\n",
    "    refined = re.sub('[×\\+\\[\\]\\>\\(\\)]', ' ', refined)\n",
    "    refined = re.sub('\\s+[종|택|개|매|호|겹|월]|이니스프리|한정|증정|단종', '', refined)\n",
    "    refined = re.sub('\\s+[\\s+]', ' ', refined)\n",
    "    in_refined.append(refined.strip() + \" | \" + name.split(\" | \")[0] + \" | \" + name.split(\" | \")[2])"
   ]
  },
  {
   "cell_type": "code",
   "execution_count": 8,
   "metadata": {},
   "outputs": [],
   "source": [
    "ap_sorted = open(\"sorted_ap.txt\", 'w')\n",
    "gs_sorted = open(\"sorted_gs.txt\", 'w')\n",
    "gl_sorted = open(\"sorted_gl.txt\", 'w')\n",
    "in_sorted = open(\"sorted_in.txt\", 'w')"
   ]
  },
  {
   "cell_type": "code",
   "execution_count": 9,
   "metadata": {},
   "outputs": [],
   "source": [
    "for ap in sorted(ap_refined):\n",
    "    ap_sorted.write(ap+'\\n')"
   ]
  },
  {
   "cell_type": "code",
   "execution_count": 10,
   "metadata": {},
   "outputs": [],
   "source": [
    "for gs in sorted(gs_refined):\n",
    "    gs_sorted.write(gs+'\\n')"
   ]
  },
  {
   "cell_type": "code",
   "execution_count": 11,
   "metadata": {},
   "outputs": [],
   "source": [
    "for gl in sorted(gl_refined):\n",
    "    gl_sorted.write(gl+'\\n')"
   ]
  },
  {
   "cell_type": "code",
   "execution_count": 12,
   "metadata": {},
   "outputs": [],
   "source": [
    "for inni in sorted(in_refined):\n",
    "    in_sorted.write(inni+'\\n')"
   ]
  },
  {
   "cell_type": "code",
   "execution_count": 13,
   "metadata": {},
   "outputs": [],
   "source": [
    "ap_sorted.close()\n",
    "gs_sorted.close()\n",
    "gl_sorted.close()\n",
    "in_sorted.close()"
   ]
  }
 ],
 "metadata": {
  "kernelspec": {
   "display_name": "Python 3",
   "language": "python",
   "name": "python3"
  },
  "language_info": {
   "codemirror_mode": {
    "name": "ipython",
    "version": 3
   },
   "file_extension": ".py",
   "mimetype": "text/x-python",
   "name": "python",
   "nbconvert_exporter": "python",
   "pygments_lexer": "ipython3",
   "version": "3.7.4"
  }
 },
 "nbformat": 4,
 "nbformat_minor": 4
}
