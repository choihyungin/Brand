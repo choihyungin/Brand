{
 "cells": [
  {
   "cell_type": "code",
   "execution_count": 1,
   "metadata": {},
   "outputs": [],
   "source": [
    "from collections import Counter\n",
    "import re"
   ]
  },
  {
   "cell_type": "code",
   "execution_count": 2,
   "metadata": {},
   "outputs": [],
   "source": [
    "prd_info = open(\"apmall_prd_info.txt\", 'r')\n",
    "prd_reviews = open(\"apmall_prd_reviews.txt\", 'r')\n",
    "inform = prd_info.readlines()\n",
    "reviews = prd_reviews.readlines()"
   ]
  },
  {
   "cell_type": "code",
   "execution_count": 3,
   "metadata": {},
   "outputs": [],
   "source": [
    "prd_num_list = []\n",
    "\n",
    "for review in reviews:\n",
    "    if len(review) == 1:\n",
    "        pass\n",
    "    else:\n",
    "        prd_num = review.split(\" | \")[0]\n",
    "        prd_num_list.append(prd_num)"
   ]
  },
  {
   "cell_type": "code",
   "execution_count": 4,
   "metadata": {},
   "outputs": [],
   "source": [
    "num_count = Counter(prd_num_list).most_common(30)"
   ]
  },
  {
   "cell_type": "code",
   "execution_count": 5,
   "metadata": {},
   "outputs": [],
   "source": [
    "top30num = []\n",
    "\n",
    "for num in num_count:\n",
    "    top30num.append(num[0])"
   ]
  },
  {
   "cell_type": "code",
   "execution_count": 6,
   "metadata": {},
   "outputs": [
    {
     "name": "stdout",
     "output_type": "stream",
     "text": [
      "['269', '96', '330', '283', '342', '30', '97', '193', '335', '209', '241', '153', '264', '48', '89', '223', '25', '248', '87', '279', '91', '224', '282', '190', '136', '221', '116', '230', '198', '131']\n"
     ]
    }
   ],
   "source": [
    "print(top30num)"
   ]
  },
  {
   "cell_type": "code",
   "execution_count": 7,
   "metadata": {},
   "outputs": [],
   "source": [
    "top30name = []\n",
    "for num in top30num:\n",
    "    for info in inform:\n",
    "        if num == info.split(\" | \")[0]:\n",
    "            top30name.append(info.split(\" | \")[1])"
   ]
  },
  {
   "cell_type": "code",
   "execution_count": 8,
   "metadata": {},
   "outputs": [
    {
     "name": "stdout",
     "output_type": "stream",
     "text": [
      "[\"19' [LTD] 노세범 미네랄 파우더5g\", '뷰티툴 닦아 쓰는 화장솜', '노세범 미네랄 팩트', '그린티밸런싱크림_세븐데이즈_5ML(19)', '뷰티툴 일반 화장솜 80매', '그린 네일 (20종 택1)', '투톤 아이브로우 키트 (2종 택1)', '올리브 리얼 클렌징 티슈', '제주 왕벚꽃 톤업 크림', '국화 여성 청결제 200ML', '국화 여성 청결 티슈 10매', '그린티씨드크림50ML(19)', '알로에 리바이탈 수딩젤 300mL', '19′ 화산송이 모공 클렌징 폼', '글리터브러쉬', '[LTD] 비자 럭키박스+미키 파우치', '올리브 모이스처 핸드크림 50ml', '19′ 청보리 클렌징 티슈 50매', '그린티씨드에센스인로션100ml(19)', '링클사이언스스팟트리트먼트40ml', '마메클원샷코튼티슈 75매', '[LTD] 한란 럭키박스+미키 파우치', '그린티미스트50ML(19)', '19′ 톤업 노세범 선스크린 SPF50+', '19′ 수퍼 화산송이 모공 마스크 2X', '스키니 꼼꼼카라(2종 택1)', '마이 헤어 레시피 리프레싱 샴푸(지성두피용) 330mL', '한란 핸드크림 SPF 15 50ml', '데일리마일드선스크린', '19′ 제주 왕벚꽃 톤업크림 [튜브타입]']\n"
     ]
    }
   ],
   "source": [
    "print(top30name)"
   ]
  },
  {
   "cell_type": "code",
   "execution_count": 9,
   "metadata": {},
   "outputs": [],
   "source": [
    "name_only = []\n",
    "for name in top30name:\n",
    "    refined = re.sub('[0-9A-Za-z-=,_+×#/\\?:^$.@*\\\"※~&%ㆍ!′´‘』\\\\|\\(\\)\\[\\]\\<\\>`\\'…》]', ' ', name)\n",
    "    refined = re.sub('\\s+[종|택|개|매|호|겹]', ' ', refined)\n",
    "    name_only.append(refined.strip())"
   ]
  },
  {
   "cell_type": "code",
   "execution_count": 10,
   "metadata": {},
   "outputs": [
    {
     "name": "stdout",
     "output_type": "stream",
     "text": [
      "['노세범 미네랄 파우더', '뷰티툴 닦아 쓰는 화장솜', '노세범 미네랄 팩트', '그린티밸런싱크림 세븐데이즈', '뷰티툴 일반 화장솜', '그린 네일', '투톤 아이브로우 키트', '올리브 리얼 클렌징 티슈', '제주 왕벚꽃 톤업 크림', '국화 여성 청결제', '국화 여성 청결 티슈', '그린티씨드크림', '알로에 리바이탈 수딩젤', '화산송이 모공 클렌징 폼', '글리터브러쉬', '비자 럭키박스 미키 파우치', '올리브 모이스처 핸드크림', '청보리 클렌징 티슈', '그린티씨드에센스인로션', '링클사이언스스팟트리트먼트', '마메클원샷코튼티슈', '한란 럭키박스 미키 파우치', '그린티미스트', '톤업 노세범 선스크린', '수퍼 화산송이 모공 마스크', '스키니 꼼꼼카라', '마이 헤어 레시피 리프레싱 샴푸 지성두피용', '한란 핸드크림', '데일리마일드선스크린', '제주 왕벚꽃 톤업크림  튜브타입']\n"
     ]
    }
   ],
   "source": [
    "print(name_only)"
   ]
  },
  {
   "cell_type": "code",
   "execution_count": 11,
   "metadata": {},
   "outputs": [],
   "source": [
    "top30prd = open(\"top30_prd_num_name_refined.txt\", 'w')"
   ]
  },
  {
   "cell_type": "code",
   "execution_count": 12,
   "metadata": {},
   "outputs": [],
   "source": [
    "for i in range(len(name_only)):\n",
    "    top30prd.write(top30num[i]+\" | \"+name_only[i] + \"\\n\")"
   ]
  },
  {
   "cell_type": "code",
   "execution_count": 13,
   "metadata": {},
   "outputs": [],
   "source": [
    "top30prd.close()"
   ]
  }
 ],
 "metadata": {
  "kernelspec": {
   "display_name": "Python 3",
   "language": "python",
   "name": "python3"
  },
  "language_info": {
   "codemirror_mode": {
    "name": "ipython",
    "version": 3
   },
   "file_extension": ".py",
   "mimetype": "text/x-python",
   "name": "python",
   "nbconvert_exporter": "python",
   "pygments_lexer": "ipython3",
   "version": "3.7.4"
  }
 },
 "nbformat": 4,
 "nbformat_minor": 4
}
