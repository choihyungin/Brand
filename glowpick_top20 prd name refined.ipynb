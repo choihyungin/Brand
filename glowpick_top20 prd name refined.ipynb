{
 "cells": [
  {
   "cell_type": "code",
   "execution_count": 1,
   "metadata": {},
   "outputs": [],
   "source": [
    "from collections import Counter\n",
    "import re"
   ]
  },
  {
   "cell_type": "code",
   "execution_count": 32,
   "metadata": {},
   "outputs": [
    {
     "name": "stdout",
     "output_type": "stream",
     "text": [
      "0 | 5 | [단종] 제주 치자꽃 핸드크림 [인텐스] | 3,500 | 1,191 | 4.31\n",
      "\n"
     ]
    }
   ],
   "source": [
    "prd_info = open(\"glowpick_prd_info.txt\", 'r')\n",
    "inform = prd_info.readlines()\n",
    "print(inform[0])\n",
    "# prd_reviews = open(\"glowpick_prd_reviews.txt\", 'r')\n",
    "# reviews = prd_reviews.readlines()"
   ]
  },
  {
   "cell_type": "code",
   "execution_count": 33,
   "metadata": {},
   "outputs": [],
   "source": [
    "num_rev_list = []\n",
    "\n",
    "for info in inform:\n",
    "    if len(info) == 1:\n",
    "        pass\n",
    "    else:\n",
    "        num = info.split(\" | \")[0]\n",
    "        rev = info.split(\" | \")[4]\n",
    "        name = info.split(\" | \")[2]\n",
    "        if rev == '0':\n",
    "            pass\n",
    "        else:\n",
    "            rev = rev.replace(',', '')\n",
    "            num_rev_list.append([num,int(rev), name])"
   ]
  },
  {
   "cell_type": "code",
   "execution_count": 35,
   "metadata": {},
   "outputs": [],
   "source": [
    "import operator\n",
    "num_rev_list = sorted(num_rev_list, key=operator.itemgetter(1), reverse=True)"
   ]
  },
  {
   "cell_type": "code",
   "execution_count": 36,
   "metadata": {},
   "outputs": [
    {
     "name": "stdout",
     "output_type": "stream",
     "text": [
      "[['9', 17258, '노세범 미네랄 파우더'], ['83', 5750, '납작 아이브로우 펜슬'], ['108', 3637, '노세범 미네랄 팩트'], ['310', 3349, '스키니 꼼꼼카라'], ['409', 2898, '[단종] 에코 후르츠 틴트']]\n"
     ]
    }
   ],
   "source": [
    "print(num_rev_list[:5])"
   ]
  },
  {
   "cell_type": "code",
   "execution_count": 85,
   "metadata": {},
   "outputs": [],
   "source": [
    "gl_top30 = []\n",
    "for num, rev, name in num_rev_list[:30]:\n",
    "    refined = re.sub('0-9[개|종|택]', ' ', name)\n",
    "    refined = re.sub('[0-9A-Za-z-=,_#/\\?:^$.@*\\\"※~&%ㆍ!′´‘』\\\\|\\<`\\'…》]', ' ', refined)\n",
    "    refined = re.sub('[×\\+\\[\\]\\>\\(\\)]', ' ', refined)\n",
    "    refined = re.sub('\\s+[종|택|개|호|겹|월]|이니스프리|한정|증정|단종', '', refined)\n",
    "    refined = re.sub('\\s+[\\s+]', ' ', refined)\n",
    "    gl_top30.append(str(num) + \" | \" + refined.strip() + \" | \" + str(rev))"
   ]
  },
  {
   "cell_type": "code",
   "execution_count": 86,
   "metadata": {},
   "outputs": [
    {
     "name": "stdout",
     "output_type": "stream",
     "text": [
      "['9 | 노세범 미네랄 파우더 | 17258', '83 | 납작 아이브로우 펜슬 | 5750', '108 | 노세범 미네랄 팩트 | 3637', '310 | 스키니 꼼꼼카라 | 3349', '409 | 에코 후르츠 틴트 | 2898', '45 | 블루베리 리밸런싱 스킨 | 2620', '47 | 블루베리 리밸런싱 클렌저 | 2557', '220 | 더 그린티 씨드 세럼 | 2275', '182 | 유채꿀 립밤 스틱 | 2207', '195 | 올리브 리얼 클렌징티슈 | 2140', '137 | 비자 시카 밤 | 2103', '8 | 마이 블러셔 | 1932', '260 | 그린티 밸런싱 로션 | 1777', '121 | 씨솔트 퍼펙트 클렌저 | 1736', '31 | 스킨 클리닉 마스크 마데카소사이드 | 1719', '271 | 그린티 밸런싱 스킨 | 1712', '38 | 블루베리 리밸런싱 워터리 선크림 | 1539', '335 | 애플쥬이시 클렌징 오일 | 1494', '1355 | 에코 꽃물 틴트 | 1461', '129 | 제주한란 인리치드 크림 | 1443', '302 | 그린티 미네랄 미스트 안개분사 | 1428', '118 | 화산송이 클레이 무스 마스크 수퍼 | 1417', '412 | 에코 꽃물 틴트밤 | 1263', '236 | 비비드 코튼 잉크 | 1204', '0 | 제주 치자꽃 핸드크림 인텐스 | 1191', '7 | 마이 아이섀도우 매트 | 1176', '58 | 잇츠 리얼 스퀴즈 티트리 마스크 | 1166', '66 | 슈퍼푸드 블루베리 리밸런싱 클렌저 | 1151', '235 | 비자 트러블 훼이셜 폼 | 1084', '1515 | 에코 세이프티 노세범 선블록 | 1070']\n"
     ]
    }
   ],
   "source": [
    "print(gl_top30)"
   ]
  },
  {
   "cell_type": "code",
   "execution_count": 91,
   "metadata": {},
   "outputs": [],
   "source": [
    "glow = open(\"glowpick_top30_name.txt\", 'w')"
   ]
  },
  {
   "cell_type": "code",
   "execution_count": 92,
   "metadata": {},
   "outputs": [],
   "source": [
    "for top30 in gl_top30:\n",
    "    glow.write(top30 + \"\\n\")"
   ]
  },
  {
   "cell_type": "code",
   "execution_count": 93,
   "metadata": {},
   "outputs": [],
   "source": [
    "glow.close()"
   ]
  },
  {
   "cell_type": "code",
   "execution_count": null,
   "metadata": {},
   "outputs": [],
   "source": []
  },
  {
   "cell_type": "code",
   "execution_count": 1,
   "metadata": {},
   "outputs": [
    {
     "name": "stdout",
     "output_type": "stream",
     "text": [
      "10000\n"
     ]
    }
   ],
   "source": [
    "prd_price = '1,0000원'\n",
    "prd_price = prd_price.replace('원', '')\n",
    "prd_price = prd_price.replace(',', '')\n",
    "prd_price = int(prd_price)\n",
    "print(prd_price)"
   ]
  }
 ],
 "metadata": {
  "kernelspec": {
   "display_name": "Python 3",
   "language": "python",
   "name": "python3"
  },
  "language_info": {
   "codemirror_mode": {
    "name": "ipython",
    "version": 3
   },
   "file_extension": ".py",
   "mimetype": "text/x-python",
   "name": "python",
   "nbconvert_exporter": "python",
   "pygments_lexer": "ipython3",
   "version": "3.7.4"
  }
 },
 "nbformat": 4,
 "nbformat_minor": 4
}
