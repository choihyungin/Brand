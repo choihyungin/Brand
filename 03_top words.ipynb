{
 "cells": [
  {
   "cell_type": "code",
   "execution_count": 39,
   "metadata": {},
   "outputs": [],
   "source": [
    "import pandas as pd\n",
    "from pandas import DataFrame\n",
    "import numpy as np\n",
    "import seaborn as sns\n",
    "from matplotlib import font_manager, rc\n",
    "font_fname = '/Library/Fonts/AppleGothic.ttf'\n",
    "font_name = font_manager.FontProperties(fname=font_fname).get_name()\n",
    "rc('font', family = font_name)\n",
    "import matplotlib.pyplot as plt"
   ]
  },
  {
   "cell_type": "code",
   "execution_count": 11,
   "metadata": {},
   "outputs": [],
   "source": [
    "from konlpy.tag import Twitter; twitter = Twitter()\n",
    "from collections import Counter\n",
    "import nltk"
   ]
  },
  {
   "cell_type": "code",
   "execution_count": 12,
   "metadata": {},
   "outputs": [],
   "source": [
    "prd_reviews = open('apmall_prd_reviews.txt', 'r')\n",
    "reviews = prd_reviews.readlines()"
   ]
  },
  {
   "cell_type": "code",
   "execution_count": 13,
   "metadata": {},
   "outputs": [],
   "source": [
    "sent = []\n",
    "for re in reviews:\n",
    "    if len(re) == 1:\n",
    "        pass\n",
    "    else:\n",
    "        text_only = re.split(\" | \")[5][:-1]\n",
    "        sent.append(text_only)"
   ]
  },
  {
   "cell_type": "code",
   "execution_count": 17,
   "metadata": {},
   "outputs": [],
   "source": [
    "result = []\n",
    "\n",
    "for se in sent:\n",
    "    tag = twitter.pos(se, norm = True, stem = True)\n",
    "    im = [i for i in tag if i[1] == \"Noun\" or i[1] == \"Adjective\" or i[1] == \"Verb\"]\n",
    "    result += im"
   ]
  },
  {
   "cell_type": "code",
   "execution_count": 19,
   "metadata": {},
   "outputs": [],
   "source": [
    "words = []\n",
    "for word in result:\n",
    "    words.append(word[0])"
   ]
  },
  {
   "cell_type": "code",
   "execution_count": 21,
   "metadata": {},
   "outputs": [],
   "source": [
    "fdist = nltk.FreqDist(words)\n",
    "fdist_common = fdist.most_common()"
   ]
  },
  {
   "cell_type": "code",
   "execution_count": 28,
   "metadata": {},
   "outputs": [
    {
     "name": "stdout",
     "output_type": "stream",
     "text": [
      "[('하다', 15298), ('좋다', 11779), ('사용', 4662), ('구매', 4440), ('같다', 4350)]\n",
      "7647\n",
      "<class 'str'>\n",
      "하다\n"
     ]
    }
   ],
   "source": [
    "print(fdist_common[:5])\n",
    "print(len(fdist_common))\n",
    "print(type(fdist_common[0][0]))\n",
    "print(fdist_common[0][0])"
   ]
  },
  {
   "cell_type": "code",
   "execution_count": 29,
   "metadata": {},
   "outputs": [],
   "source": [
    "top_words = []\n",
    "for word, freq in fdist_common:\n",
    "    top_words.append(word)"
   ]
  },
  {
   "cell_type": "code",
   "execution_count": 31,
   "metadata": {},
   "outputs": [
    {
     "name": "stdout",
     "output_type": "stream",
     "text": [
      "['하다', '좋다', '사용', '구매', '같다']\n",
      "7647\n"
     ]
    }
   ],
   "source": [
    "print(top_words[:5])\n",
    "print(len(top_words))"
   ]
  }
 ],
 "metadata": {
  "kernelspec": {
   "display_name": "Python 3",
   "language": "python",
   "name": "python3"
  },
  "language_info": {
   "codemirror_mode": {
    "name": "ipython",
    "version": 3
   },
   "file_extension": ".py",
   "mimetype": "text/x-python",
   "name": "python",
   "nbconvert_exporter": "python",
   "pygments_lexer": "ipython3",
   "version": "3.7.4"
  }
 },
 "nbformat": 4,
 "nbformat_minor": 4
}
