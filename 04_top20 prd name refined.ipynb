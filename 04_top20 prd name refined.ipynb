{
 "cells": [
  {
   "cell_type": "code",
   "execution_count": 10,
   "metadata": {},
   "outputs": [],
   "source": [
    "from collections import Counter\n",
    "import re"
   ]
  },
  {
   "cell_type": "code",
   "execution_count": 11,
   "metadata": {},
   "outputs": [],
   "source": [
    "prd_info = open(\"apmall_prd_info.txt\", 'r')\n",
    "prd_reviews = open(\"apmall_prd_reviews.txt\", 'r')\n",
    "inform = prd_info.readlines()\n",
    "reviews = prd_reviews.readlines()"
   ]
  },
  {
   "cell_type": "code",
   "execution_count": 12,
   "metadata": {},
   "outputs": [],
   "source": [
    "prd_num_list = []\n",
    "\n",
    "for review in reviews:\n",
    "    if len(review) == 1:\n",
    "        pass\n",
    "    else:\n",
    "        prd_num = review.split(\" | \")[0]\n",
    "        prd_num_list.append(prd_num)"
   ]
  },
  {
   "cell_type": "code",
   "execution_count": 13,
   "metadata": {},
   "outputs": [],
   "source": [
    "num_count = Counter(prd_num_list).most_common(50)"
   ]
  },
  {
   "cell_type": "code",
   "execution_count": 14,
   "metadata": {},
   "outputs": [],
   "source": [
    "top20num = []\n",
    "\n",
    "for num in num_count:\n",
    "    top20num.append(num[0])"
   ]
  },
  {
   "cell_type": "code",
   "execution_count": 15,
   "metadata": {},
   "outputs": [
    {
     "name": "stdout",
     "output_type": "stream",
     "text": [
      "['269', '96', '330', '283', '342', '30', '97', '193', '335', '209', '241', '153', '264', '48', '89', '223', '25', '248', '87', '279', '91', '224', '282', '190', '136', '221', '116', '230', '198', '131', '56', '144', '280', '111', '212', '51', '26', '92', '95', '47', '203', '265', '336', '49', '211', '1', '31', '3', '174', '210']\n"
     ]
    }
   ],
   "source": [
    "print(top20num)"
   ]
  },
  {
   "cell_type": "code",
   "execution_count": 16,
   "metadata": {},
   "outputs": [],
   "source": [
    "top20name = []\n",
    "for num in top20num:\n",
    "    for info in inform:\n",
    "        if num == info.split(\" | \")[0]:\n",
    "            top20name.append(info.split(\" | \")[1])"
   ]
  },
  {
   "cell_type": "code",
   "execution_count": 17,
   "metadata": {},
   "outputs": [
    {
     "name": "stdout",
     "output_type": "stream",
     "text": [
      "[\"19' [LTD] 노세범 미네랄 파우더5g\", '뷰티툴 닦아 쓰는 화장솜', '노세범 미네랄 팩트', '그린티밸런싱크림_세븐데이즈_5ML(19)', '뷰티툴 일반 화장솜 80매', '그린 네일 (20종 택1)', '투톤 아이브로우 키트 (2종 택1)', '올리브 리얼 클렌징 티슈', '제주 왕벚꽃 톤업 크림', '국화 여성 청결제 200ML', '국화 여성 청결 티슈 10매', '그린티씨드크림50ML(19)', '알로에 리바이탈 수딩젤 300mL', '19′ 화산송이 모공 클렌징 폼', '글리터브러쉬', '[LTD] 비자 럭키박스+미키 파우치', '올리브 모이스처 핸드크림 50ml', '19′ 청보리 클렌징 티슈 50매', '그린티씨드에센스인로션100ml(19)', '링클사이언스스팟트리트먼트40ml', '마메클원샷코튼티슈 75매', '[LTD] 한란 럭키박스+미키 파우치', '그린티미스트50ML(19)', '19′ 톤업 노세범 선스크린 SPF50+', '19′ 수퍼 화산송이 모공 마스크 2X', '스키니 꼼꼼카라(2종 택1)', '마이 헤어 레시피 리프레싱 샴푸(지성두피용) 330mL', '한란 핸드크림 SPF 15 50ml', '데일리마일드선스크린', '19′ 제주 왕벚꽃 톤업크림 [튜브타입]', '올리브 리얼 바디 로션', '카멜리아에센셜샴푸 300ML', '리프팅사이언스안티에이징밴드(턱목)1개', '애플씨드 립 앤 아이 메이크업 리무버', '트루케어 AC 진정 앰플', \"19' 그린티 퓨어 바디 젤 스크럽\", '트윙클 글리터 [홀로그램] (4종 택1)', '마메클메이크업스테인클리너 30매', '뷰티툴 스킨팩 전용 5겹 화장솜', '19´ 비자 시카 밤 40mL', '카멜리아 에센셜 잔머리스틱왁스', \"19' 알로에 리바이탈 스킨 미스트\", \"19' 한란인리치드크림\", '19′ 비자 트러블 훼이셜 폼', '링클사이언스아이크림30ml', '이니스프리 청보리 토너 250mL', '제주 용암해수 이펙터 (5종 택1)', \"19' 이니스프리 한란 아이크림\", '더마포뮬러 그린티 프로바이오틱스 크림 50mL', '그린티 미스트 150ML(19)']\n"
     ]
    }
   ],
   "source": [
    "print(top20name)"
   ]
  },
  {
   "cell_type": "code",
   "execution_count": 12,
   "metadata": {},
   "outputs": [],
   "source": [
    "name_only = []\n",
    "for name in top20name:\n",
    "    refined = re.sub('[0-9A-Za-z-=,_+×#/\\?:^$.@*\\\"※~&%ㆍ!′´‘』\\\\|\\(\\)\\[\\]\\<\\>`\\'…》]', ' ', name)\n",
    "    refined = re.sub('\\s+[종|택|개|매|호|겹]', ' ', refined)\n",
    "    name_only.append(refined.strip())"
   ]
  },
  {
   "cell_type": "code",
   "execution_count": 13,
   "metadata": {},
   "outputs": [
    {
     "name": "stdout",
     "output_type": "stream",
     "text": [
      "['노세범 미네랄 파우더', '뷰티툴 닦아 쓰는 화장솜', '노세범 미네랄 팩트', '그린티밸런싱크림 세븐데이즈', '뷰티툴 일반 화장솜', '그린 네일', '투톤 아이브로우 키트', '올리브 리얼 클렌징 티슈', '제주 왕벚꽃 톤업 크림', '국화 여성 청결제', '국화 여성 청결 티슈', '그린티씨드크림', '알로에 리바이탈 수딩젤', '화산송이 모공 클렌징 폼', '글리터브러쉬', '비자 럭키박스 미키 파우치', '올리브 모이스처 핸드크림', '청보리 클렌징 티슈', '그린티씨드에센스인로션', '링클사이언스스팟트리트먼트']\n"
     ]
    }
   ],
   "source": [
    "print(name_only)"
   ]
  },
  {
   "cell_type": "code",
   "execution_count": 15,
   "metadata": {},
   "outputs": [],
   "source": [
    "top20prd = open(\"top20_prd_num_name_refined.txt\", 'w')"
   ]
  },
  {
   "cell_type": "code",
   "execution_count": 16,
   "metadata": {},
   "outputs": [],
   "source": [
    "for i in range(len(name_only)):\n",
    "    top20prd.write(top20num[i]+\" | \"+name_only[i] + \"\\n\")"
   ]
  },
  {
   "cell_type": "code",
   "execution_count": 17,
   "metadata": {},
   "outputs": [],
   "source": [
    "top20prd.close()"
   ]
  }
 ],
 "metadata": {
  "kernelspec": {
   "display_name": "Python 3",
   "language": "python",
   "name": "python3"
  },
  "language_info": {
   "codemirror_mode": {
    "name": "ipython",
    "version": 3
   },
   "file_extension": ".py",
   "mimetype": "text/x-python",
   "name": "python",
   "nbconvert_exporter": "python",
   "pygments_lexer": "ipython3",
   "version": "3.7.4"
  }
 },
 "nbformat": 4,
 "nbformat_minor": 4
}
